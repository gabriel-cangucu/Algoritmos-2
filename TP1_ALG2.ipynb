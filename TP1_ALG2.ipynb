{
 "cells": [
  {
   "cell_type": "markdown",
   "metadata": {},
   "source": [
    "# Algoritmos 2\n",
    "\n",
    "### Trabalho prático 1\n",
    "Aluno: Gabriel Lima"
   ]
  },
  {
   "cell_type": "code",
   "execution_count": 1,
   "metadata": {},
   "outputs": [],
   "source": [
    "import numpy as np\n",
    "import math\n",
    "import matplotlib.pyplot as plt"
   ]
  },
  {
   "cell_type": "markdown",
   "metadata": {},
   "source": [
    "### Varredura de Graham"
   ]
  },
  {
   "cell_type": "markdown",
   "metadata": {},
   "source": [
    "Começamos com uma lista de 100 pontos gerados aleatoriamente, os quais serão usados por ambos os algortimos."
   ]
  },
  {
   "cell_type": "code",
   "execution_count": 2,
   "metadata": {},
   "outputs": [],
   "source": [
    "# Definindo a lista de pontos\n",
    "points = []\n",
    "\n",
    "# Gerando n pontos aleatórios para a lista\n",
    "for _ in range(50):\n",
    "    points.append(tuple(np.random.randint(100, size = 2)))"
   ]
  },
  {
   "cell_type": "code",
   "execution_count": 3,
   "metadata": {},
   "outputs": [
    {
     "data": {
      "text/plain": [
       "<matplotlib.collections.PathCollection at 0x181af28a390>"
      ]
     },
     "execution_count": 3,
     "metadata": {},
     "output_type": "execute_result"
    },
    {
     "data": {
      "image/png": "[encoded data removed]",
      "text/plain": [
       "<Figure size 432x288 with 1 Axes>"
      ]
     },
     "metadata": {
      "needs_background": "light"
     },
     "output_type": "display_data"
    }
   ],
   "source": [
    "plt.scatter([x[0] for x in points], [x[1] for x in points])"
   ]
  },
  {
   "cell_type": "markdown",
   "metadata": {},
   "source": [
    "O primeiro passo é encontrar o ponto $P$ com a menor coordenada $y$. Caso haja mais de um ponto com o mesmo $y$, a coordenada $x$ será utilizada para critério de desempate. Como o número de pontos a ser analizado é $n$, a tarefa é realizada em O($n$)."
   ]
  },
  {
   "cell_type": "code",
   "execution_count": 4,
   "metadata": {},
   "outputs": [
    {
     "data": {
      "text/plain": [
       "(9, 3)"
      ]
     },
     "execution_count": 4,
     "metadata": {},
     "output_type": "execute_result"
    }
   ],
   "source": [
    "points.sort()\n",
    "P = min(points, key = lambda tup: tup[1])\n",
    "\n",
    "P"
   ]
  },
  {
   "cell_type": "markdown",
   "metadata": {},
   "source": [
    "Em seguida, os pontos são ordenados em ordem crescente pelo ângulo que fazem (em radianos) com $P$ em relação ao eixo $x$, o que é feito em O($n$ log $n$). Para reduzir o custo computacional, calculamos o produto vetorial para a obtenção do ângulo."
   ]
  },
  {
   "cell_type": "code",
   "execution_count": 5,
   "metadata": {},
   "outputs": [],
   "source": [
    "# Criamos um dicionário para associar cada ponto ao seu ângulo com P\n",
    "angles = dict()\n",
    "\n",
    "for point in points:\n",
    "    angles[point] = math.atan2(point[1]-P[1], point[0]-P[0])\n",
    "    \n",
    "sorted_points = []\n",
    "sorted_points = sorted(angles.items(), key = lambda x: x[1])"
   ]
  },
  {
   "cell_type": "markdown",
   "metadata": {},
   "source": [
    "Vamos definidir a função *clock_wise(stack_top, stack_second, point)*. Ela recebe três pontos $p_0$, $p_1$ e $p_2$, os quais formam os vetores $p_0 p_1$ e $p_0 p_2$. Através de um produto vetorial entre esses dois vetores decidimos se $p_2$ está à esquerda de $p_1$ (produto vetorial negativo), se $p_2$ está à direita de $p_1$ (produto vetorial positivo) ou se os pontos são colineares (produto vetorial = 0)."
   ]
  },
  {
   "cell_type": "code",
   "execution_count": 6,
   "metadata": {},
   "outputs": [],
   "source": [
    "# Função que retorna < 0 se três pontos estão no sentido anti-horário, > 0 se horário e 0 se são colineares\n",
    "def clock_wise(p0, p1, p2):\n",
    "    v1 = p1 - p0\n",
    "    v2 = p2 - p0\n",
    "    return v1[0]*v2[1] - v1[1]*v2[0]"
   ]
  },
  {
   "cell_type": "code",
   "execution_count": 7,
   "metadata": {},
   "outputs": [],
   "source": [
    "def graham_scan(points, sorted_points):\n",
    "    stack = []\n",
    "\n",
    "    stack.insert(0, points[0])\n",
    "    stack.insert(0, points[1])\n",
    "\n",
    "    for point in [p[0] for p in sorted_points]:\n",
    "        while len(stack) > 1 and clock_wise(point, np.array(stack[0]), np.array(stack[1])) > 0:\n",
    "            stack.pop(0)\n",
    "\n",
    "        stack.insert(0, point)\n",
    "\n",
    "    return stack"
   ]
  },
  {
   "cell_type": "code",
   "execution_count": 8,
   "metadata": {
    "scrolled": true
   },
   "outputs": [
    {
     "data": {
      "text/plain": [
       "<matplotlib.collections.PathCollection at 0x181af313828>"
      ]
     },
     "execution_count": 8,
     "metadata": {},
     "output_type": "execute_result"
    },
    {
     "data": {
      "image/png": "[encoded data removed]",
      "text/plain": [
       "<Figure size 432x288 with 1 Axes>"
      ]
     },
     "metadata": {
      "needs_background": "light"
     },
     "output_type": "display_data"
    }
   ],
   "source": [
    "stack = graham_scan(points, sorted_points)\n",
    "\n",
    "plt.scatter([x[0] for x in stack], [x[1] for x in stack])"
   ]
  },
  {
   "cell_type": "markdown",
   "metadata": {},
   "source": [
    "### Embrulho para presente"
   ]
  },
  {
   "cell_type": "markdown",
   "metadata": {},
   "source": [
    "O primeiro passo é escolher o ponto mais à esquerda $P_0$, ou seja, o ponto cujo valor da coordenada $x$ seja o menor possível. Como já previamente ordenamos os pontos pelo valor de $x$, basta escolhermos o primeiro. Em seguida, começamos com $i$ = 0 e escolhemos um ponto $P_{i + 1}$ de forma que todos os pontos estejam à direita de da reta formada por $P_i$ e $P_{i + 1}$. O algoritmo para quando $P_{i + 1}$ = $P_0$."
   ]
  },
  {
   "cell_type": "markdown",
   "metadata": {},
   "source": [
    "Definimos a seguir a função *gift_wrapping(points)*, que também retorna uma lista de pontos que configuram a envoltura convexa do conjunto de pontos. O tempo de excução é O($nh$), onde $n$ é o número de pontos ao todo e $h$ é o número de pontos pertencentes à envoltura."
   ]
  },
  {
   "cell_type": "code",
   "execution_count": 9,
   "metadata": {},
   "outputs": [],
   "source": [
    "def gift_wrapping(points):\n",
    "    convex_hull = []\n",
    "    # Ponto mais à esquerda, que garantidamente pertence à envoltura\n",
    "    P = points[0]\n",
    "    \n",
    "    i = 0\n",
    "    \n",
    "    while True:\n",
    "        convex_hull.append(P)\n",
    "        end_pt = points[0]\n",
    "        \n",
    "        for j in range(1, len(points)):\n",
    "            if end_pt == P or clock_wise(np.array(convex_hull[i]), np.array(points[j]), end_pt) < 0:\n",
    "                # Há pontos à esquerda de end_pt, atualizamos o end_pt\n",
    "                end_pt = points[j]\n",
    "        \n",
    "        i += 1\n",
    "        P = end_pt\n",
    "        \n",
    "        # Voltamos ao primeiro ponto\n",
    "        if end_pt == points[0]:\n",
    "            break\n",
    "    \n",
    "    return convex_hull"
   ]
  },
  {
   "cell_type": "code",
   "execution_count": 10,
   "metadata": {},
   "outputs": [
    {
     "data": {
      "text/plain": [
       "<matplotlib.collections.PathCollection at 0x181af393f28>"
      ]
     },
     "execution_count": 10,
     "metadata": {},
     "output_type": "execute_result"
    },
    {
     "data": {
      "image/png": "[encoded data removed]",
      "text/plain": [
       "<Figure size 432x288 with 1 Axes>"
      ]
     },
     "metadata": {
      "needs_background": "light"
     },
     "output_type": "display_data"
    }
   ],
   "source": [
    "convex_hull = gift_wrapping(points)\n",
    "\n",
    "plt.scatter([x[0] for x in convex_hull], [x[1] for x in convex_hull])"
   ]
  },
  {
   "cell_type": "code",
   "execution_count": null,
   "metadata": {},
   "outputs": [],
   "source": []
  }
 ],
 "metadata": {
  "kernelspec": {
   "display_name": "Python 3",
   "language": "python",
   "name": "python3"
  },
  "language_info": {
   "codemirror_mode": {
    "name": "ipython",
    "version": 3
   },
   "file_extension": ".py",
   "mimetype": "text/x-python",
   "name": "python",
   "nbconvert_exporter": "python",
   "pygments_lexer": "ipython3",
   "version": "3.7.3"
  }
 },
 "nbformat": 4,
 "nbformat_minor": 2
}
